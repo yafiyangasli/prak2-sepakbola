{
 "cells": [
  {
   "cell_type": "code",
   "execution_count": 56,
   "metadata": {},
   "outputs": [],
   "source": [
    "from bs4 import BeautifulSoup\n",
    "import json\n",
    "import requests\n",
    "import pandas as pd\n",
    "import matplotlib as plt\n",
    "\n",
    "URL = \"https://m.bola.com/inggris\"\n",
    "r   = requests.request(\"GET\", URL).text\n",
    "\n"
   ]
  },
  {
   "cell_type": "code",
   "execution_count": 57,
   "metadata": {},
   "outputs": [
    {
     "name": "stdout",
     "output_type": "stream",
     "text": [
      "Total data 60\n"
     ]
    }
   ],
   "source": [
    "data = BeautifulSoup(r, \"html.parser\")\n",
    "listproductinfo = data.find_all(\"div\", attrs={'class':'article-snippet'})\n",
    "\n",
    "#validasi data minimal 10\n",
    "print(\"Total data\" ,len(listproductinfo))"
   ]
  },
  {
   "cell_type": "code",
   "execution_count": 64,
   "metadata": {},
   "outputs": [
    {
     "name": "stdout",
     "output_type": "stream",
     "text": [
      "[{\"Title\": \"Bursa Transfer Liga Inggris: Manchester United Rekrut Kiper Baru, David De Gea Fix Cabut?\", \"Link\": \"https://m.bola.com/inggris/read/4570421/bursa-transfer-liga-inggris-manchester-united-rekrut-kiper-baru-david-de-gea-fix-cabut?medium=Headline__mobile&campaign=Headline_click_1\", \"Img\": \"https://cdn1-production-images-kly.akamaized.net/SBLmRA5p2epcfFNQIfAfRmEIL5g=/375x208/smart/filters:quality(75):strip_icc():format(jpeg)/kly-media-production/medias/3362093/original/092029000_1611824429-AP21027796105460.jpg\", \"Date\": \"31 Mei 2021 16:15\", \"Source\": \"bola.com\"}, {\"Title\": \"Bursa Transfer Liga Inggris: Liverpool Sekolahkan Bek Masa Depannya ke Burnley?\", \"Link\": \"https://m.bola.com/inggris/read/4570340/bursa-transfer-liga-inggris-liverpool-sekolahkan-bek-masa-depannya-ke-burnley\", \"Img\": \"https://cdn1-production-images-kly.akamaized.net/_1_ND-MYDNe0wkQdPEhd0F52MYM=/85x85/smart/filters:quality(75):strip_icc():format(jpeg)/kly-media-production/medias/3460143/original/072510400_1621467623-6_AP21139740005743.jpg\", \"Date\": \"31 Mei 2021 14:15\", \"Source\": \"bola.com\"}, {\"Title\": \"Liga Inggris: Calon Peraih Ballon d'Or, Ini Keistimewaan N'Golo Kante di Mata Kapten Chelsea\", \"Link\": \"https://m.bola.com/inggris/read/4570327/liga-inggris-calon-peraih-ballon-dor-ini-keistimewaan-ngolo-kante-di-mata-kapten-chelsea\", \"Img\": \"https://cdn0-production-images-kly.akamaized.net/VFQiVjXUz5vP82eR1_BcThEHCZY=/85x85/smart/filters:quality(75):strip_icc():format(jpeg)/kly-media-production/medias/3410060/original/076916600_1616575484-Chelsea_-_Ngolo_Kante.jpg\", \"Date\": \"31 Mei 2021 14:00\", \"Source\": \"bola.com\"}, {\"Title\": \"Bursa Transfer Liga Inggris: Barcelona Siap Lepas Coutinho, Ambil Enggak Nih Liverpool?\", \"Link\": \"https://m.bola.com/inggris/read/4570252/bursa-transfer-liga-inggris-barcelona-siap-lepas-coutinho-ambil-enggak-nih-liverpool\", \"Img\": \"https://cdn0-production-images-kly.akamaized.net/t6R3vE4qeYUy-VHgA4AH2wvnWu0=/85x85/smart/filters:quality(75):strip_icc():format(jpeg)/kly-media-production/medias/3462153/original/043171600_1621605728-000_UX7OA.jpg\", \"Date\": \"31 Mei 2021 12:45\", \"Source\": \"bola.com\"}, {\"Title\": \"Liga Inggris: Liverpool Berpeluang Dapatkan Suksesor Georginio Wijnaldum\", \"Link\": \"https://m.bola.com/inggris/read/4570082/liga-inggris-liverpool-berpeluang-dapatkan-suksesor-georginio-wijnaldum\", \"Img\": \"https://cdn1-production-images-kly.akamaized.net/Oqx33jp1dM6b5TKVaSFewu_PvUk=/85x85/smart/filters:quality(75):strip_icc():format(jpeg)/kly-media-production/medias/3434938/original/082213900_1618964218-6_AP21110765064383.jpg\", \"Date\": \"31 Mei 2021 09:30\", \"Source\": \"bola.com\"}, {\"Title\": \"10 Alasan Fans Mudah Jatuh Cinta kepada N'Golo Kante: Saking Ramahnya, Tak Menolak Diundang Makan Fans Arsenal\", \"Link\": \"https://m.bola.com/inggris/read/4570009/10-alasan-fans-mudah-jatuh-cinta-kepada-ngolo-kante-saking-ramahnya-tak-menolak-diundang-makan-fans-arsenal\", \"Img\": \"https://cdn0-production-images-kly.akamaized.net/g5yhp3-tUJKF3OetYhF9L3qNiBU=/85x85/smart/filters:quality(75):strip_icc():format(jpeg)/kly-media-production/medias/3468350/original/002953700_1622341985-COVER_Berita_Infografis_-_Manchester_City_Vs_Chelsea_Man_Of_The_Match_NGolo_Kante.jpg\", \"Date\": \"31 Mei 2021 06:30\", \"Source\": \"bola.com\"}, {\"Title\": \"Liga Inggris: Pilih Harry Kane atau Jadon Sancho? Manchester United Sudah Putuskan Jawabannya\", \"Link\": \"https://m.bola.com/inggris/read/4569830/liga-inggris-pilih-harry-kane-atau-jadon-sancho-manchester-united-sudah-putuskan-jawabannya\", \"Img\": \"https://cdn1-production-images-kly.akamaized.net/qyJPydBRGXpNmYDQtqj0XsAyf10=/85x85/smart/filters:quality(75):strip_icc():format(jpeg)/kly-media-production/medias/3467836/original/058096600_1622254939-000_94H7K6.jpg\", \"Date\": \"30 Mei 2021 19:30\", \"Source\": \"bola.com\"}, {\"Title\": \"Liga Inggris: Manchester United Disarankan Ganti Ole Gunnar Solksjaer dengan Antonio Conte\", \"Link\": \"https://m.bola.com/inggris/read/4569486/liga-inggris-manchester-united-disarankan-ganti-ole-gunnar-solksjaer-dengan-antonio-conte\", \"Img\": \"https://cdn1-production-images-kly.akamaized.net/-WafhvMzuf_kYiFPWcEfsvGN-C8=/85x85/smart/filters:quality(75):strip_icc():format(jpeg)/kly-media-production/medias/3465906/original/098521300_1622074167-AP21146802071602.jpg\", \"Date\": \"30 Mei 2021 11:45\", \"Source\": \"bola.com\"}, {\"Title\": \"Liga Inggris: Brentford, Tim Asal London yang Promosi ke Premier League setelah Menunggu 73 Tahun\", \"Link\": \"https://m.bola.com/inggris/read/4569571/liga-inggris-brentford-tim-asal-london-yang-promosi-ke-premier-league-setelah-menunggu-73-tahun\", \"Img\": \"https://cdn0-production-images-kly.akamaized.net/ISutYTuU8wYoPQObti52FophH_8=/85x85/smart/filters:quality(75):strip_icc():format(jpeg)/kly-media-production/medias/3468299/original/070757300_1622321085-E2kSDXCXEAo2wzL.jpg\", \"Date\": \"30 Mei 2021 11:15\", \"Source\": \"bola.com\"}, {\"Title\": \"Liga Inggris: Eks Arsenal dan Manchester United Kritik Perlakuan Chelsea terhadap Hakim Ziyech\", \"Link\": \"https://m.bola.com/inggris/read/4569402/liga-inggris-eks-arsenal-dan-manchester-united-kritik-perlakuan-chelsea-terhadap-hakim-ziyech\", \"Img\": \"https://cdn1-production-images-kly.akamaized.net/slztLEg3ozWLcg9eo_w2LUnxKro=/85x85/smart/filters:quality(75):strip_icc():format(jpeg)/kly-media-production/medias/3436919/original/046433800_1619088454-000_9692L8.jpg\", \"Date\": \"29 Mei 2021 23:15\", \"Source\": \"bola.com\"}]\n",
      "[\n",
      "    {\n",
      "        \"Date\": \"31 Mei 2021 16:15\",\n",
      "        \"Img\": \"https://cdn1-production-images-kly.akamaized.net/SBLmRA5p2epcfFNQIfAfRmEIL5g=/375x208/smart/filters:quality(75):strip_icc():format(jpeg)/kly-media-production/medias/3362093/original/092029000_1611824429-AP21027796105460.jpg\",\n",
      "        \"Link\": \"https://m.bola.com/inggris/read/4570421/bursa-transfer-liga-inggris-manchester-united-rekrut-kiper-baru-david-de-gea-fix-cabut?medium=Headline__mobile&campaign=Headline_click_1\",\n",
      "        \"Source\": \"bola.com\",\n",
      "        \"Title\": \"Bursa Transfer Liga Inggris: Manchester United Rekrut Kiper Baru, David De Gea Fix Cabut?\"\n",
      "    },\n",
      "    {\n",
      "        \"Date\": \"31 Mei 2021 14:15\",\n",
      "        \"Img\": \"https://cdn1-production-images-kly.akamaized.net/_1_ND-MYDNe0wkQdPEhd0F52MYM=/85x85/smart/filters:quality(75):strip_icc():format(jpeg)/kly-media-production/medias/3460143/original/072510400_1621467623-6_AP21139740005743.jpg\",\n",
      "        \"Link\": \"https://m.bola.com/inggris/read/4570340/bursa-transfer-liga-inggris-liverpool-sekolahkan-bek-masa-depannya-ke-burnley\",\n",
      "        \"Source\": \"bola.com\",\n",
      "        \"Title\": \"Bursa Transfer Liga Inggris: Liverpool Sekolahkan Bek Masa Depannya ke Burnley?\"\n",
      "    },\n",
      "    {\n",
      "        \"Date\": \"31 Mei 2021 14:00\",\n",
      "        \"Img\": \"https://cdn0-production-images-kly.akamaized.net/VFQiVjXUz5vP82eR1_BcThEHCZY=/85x85/smart/filters:quality(75):strip_icc():format(jpeg)/kly-media-production/medias/3410060/original/076916600_1616575484-Chelsea_-_Ngolo_Kante.jpg\",\n",
      "        \"Link\": \"https://m.bola.com/inggris/read/4570327/liga-inggris-calon-peraih-ballon-dor-ini-keistimewaan-ngolo-kante-di-mata-kapten-chelsea\",\n",
      "        \"Source\": \"bola.com\",\n",
      "        \"Title\": \"Liga Inggris: Calon Peraih Ballon d'Or, Ini Keistimewaan N'Golo Kante di Mata Kapten Chelsea\"\n",
      "    },\n",
      "    {\n",
      "        \"Date\": \"31 Mei 2021 12:45\",\n",
      "        \"Img\": \"https://cdn0-production-images-kly.akamaized.net/t6R3vE4qeYUy-VHgA4AH2wvnWu0=/85x85/smart/filters:quality(75):strip_icc():format(jpeg)/kly-media-production/medias/3462153/original/043171600_1621605728-000_UX7OA.jpg\",\n",
      "        \"Link\": \"https://m.bola.com/inggris/read/4570252/bursa-transfer-liga-inggris-barcelona-siap-lepas-coutinho-ambil-enggak-nih-liverpool\",\n",
      "        \"Source\": \"bola.com\",\n",
      "        \"Title\": \"Bursa Transfer Liga Inggris: Barcelona Siap Lepas Coutinho, Ambil Enggak Nih Liverpool?\"\n",
      "    },\n",
      "    {\n",
      "        \"Date\": \"31 Mei 2021 09:30\",\n",
      "        \"Img\": \"https://cdn1-production-images-kly.akamaized.net/Oqx33jp1dM6b5TKVaSFewu_PvUk=/85x85/smart/filters:quality(75):strip_icc():format(jpeg)/kly-media-production/medias/3434938/original/082213900_1618964218-6_AP21110765064383.jpg\",\n",
      "        \"Link\": \"https://m.bola.com/inggris/read/4570082/liga-inggris-liverpool-berpeluang-dapatkan-suksesor-georginio-wijnaldum\",\n",
      "        \"Source\": \"bola.com\",\n",
      "        \"Title\": \"Liga Inggris: Liverpool Berpeluang Dapatkan Suksesor Georginio Wijnaldum\"\n",
      "    },\n",
      "    {\n",
      "        \"Date\": \"31 Mei 2021 06:30\",\n",
      "        \"Img\": \"https://cdn0-production-images-kly.akamaized.net/g5yhp3-tUJKF3OetYhF9L3qNiBU=/85x85/smart/filters:quality(75):strip_icc():format(jpeg)/kly-media-production/medias/3468350/original/002953700_1622341985-COVER_Berita_Infografis_-_Manchester_City_Vs_Chelsea_Man_Of_The_Match_NGolo_Kante.jpg\",\n",
      "        \"Link\": \"https://m.bola.com/inggris/read/4570009/10-alasan-fans-mudah-jatuh-cinta-kepada-ngolo-kante-saking-ramahnya-tak-menolak-diundang-makan-fans-arsenal\",\n",
      "        \"Source\": \"bola.com\",\n",
      "        \"Title\": \"10 Alasan Fans Mudah Jatuh Cinta kepada N'Golo Kante: Saking Ramahnya, Tak Menolak Diundang Makan Fans Arsenal\"\n",
      "    },\n",
      "    {\n",
      "        \"Date\": \"30 Mei 2021 19:30\",\n",
      "        \"Img\": \"https://cdn1-production-images-kly.akamaized.net/qyJPydBRGXpNmYDQtqj0XsAyf10=/85x85/smart/filters:quality(75):strip_icc():format(jpeg)/kly-media-production/medias/3467836/original/058096600_1622254939-000_94H7K6.jpg\",\n",
      "        \"Link\": \"https://m.bola.com/inggris/read/4569830/liga-inggris-pilih-harry-kane-atau-jadon-sancho-manchester-united-sudah-putuskan-jawabannya\",\n",
      "        \"Source\": \"bola.com\",\n",
      "        \"Title\": \"Liga Inggris: Pilih Harry Kane atau Jadon Sancho? Manchester United Sudah Putuskan Jawabannya\"\n",
      "    },\n",
      "    {\n",
      "        \"Date\": \"30 Mei 2021 11:45\",\n",
      "        \"Img\": \"https://cdn1-production-images-kly.akamaized.net/-WafhvMzuf_kYiFPWcEfsvGN-C8=/85x85/smart/filters:quality(75):strip_icc():format(jpeg)/kly-media-production/medias/3465906/original/098521300_1622074167-AP21146802071602.jpg\",\n",
      "        \"Link\": \"https://m.bola.com/inggris/read/4569486/liga-inggris-manchester-united-disarankan-ganti-ole-gunnar-solksjaer-dengan-antonio-conte\",\n",
      "        \"Source\": \"bola.com\",\n",
      "        \"Title\": \"Liga Inggris: Manchester United Disarankan Ganti Ole Gunnar Solksjaer dengan Antonio Conte\"\n",
      "    },\n",
      "    {\n",
      "        \"Date\": \"30 Mei 2021 11:15\",\n",
      "        \"Img\": \"https://cdn0-production-images-kly.akamaized.net/ISutYTuU8wYoPQObti52FophH_8=/85x85/smart/filters:quality(75):strip_icc():format(jpeg)/kly-media-production/medias/3468299/original/070757300_1622321085-E2kSDXCXEAo2wzL.jpg\",\n",
      "        \"Link\": \"https://m.bola.com/inggris/read/4569571/liga-inggris-brentford-tim-asal-london-yang-promosi-ke-premier-league-setelah-menunggu-73-tahun\",\n",
      "        \"Source\": \"bola.com\",\n",
      "        \"Title\": \"Liga Inggris: Brentford, Tim Asal London yang Promosi ke Premier League setelah Menunggu 73 Tahun\"\n",
      "    },\n",
      "    {\n",
      "        \"Date\": \"29 Mei 2021 23:15\",\n",
      "        \"Img\": \"https://cdn1-production-images-kly.akamaized.net/slztLEg3ozWLcg9eo_w2LUnxKro=/85x85/smart/filters:quality(75):strip_icc():format(jpeg)/kly-media-production/medias/3436919/original/046433800_1619088454-000_9692L8.jpg\",\n",
      "        \"Link\": \"https://m.bola.com/inggris/read/4569402/liga-inggris-eks-arsenal-dan-manchester-united-kritik-perlakuan-chelsea-terhadap-hakim-ziyech\",\n",
      "        \"Source\": \"bola.com\",\n",
      "        \"Title\": \"Liga Inggris: Eks Arsenal dan Manchester United Kritik Perlakuan Chelsea terhadap Hakim Ziyech\"\n",
      "    }\n",
      "]\n"
     ]
    }
   ],
   "source": [
    "list_data = {}\n",
    "scrapped_data = []\n",
    "a=1\n",
    "\n",
    "for x in listproductinfo:\n",
    "    if(a <= 10):\n",
    "        temp = x.find('span', attrs={'class':'article-snippet__title-text'})\n",
    "        temp2 = x.find('a', href=True)\n",
    "        temp3 = x.find('img', src=True)\n",
    "        temp4 = x.find('time')\n",
    "        title = temp.text\n",
    "        link = (temp2['href'])\n",
    "        img = (temp3['src'])\n",
    "        date = temp4.text\n",
    "        source = \"bola.com\"\n",
    "        title = title.replace('\\n', '')\n",
    "        date = date.replace('\\n', '')\n",
    "        list_data [\"Title\"] = title\n",
    "        list_data [\"Link\"] = link\n",
    "        list_data [\"Img\"] = img\n",
    "        list_data [\"Date\"] = date\n",
    "        list_data [\"Source\"] = source\n",
    "        list_datacopy = list_data.copy()\n",
    "        scrapped_data.append(list_datacopy)\n",
    "        a=a+1\n",
    "        \n",
    "scrapped_data=json.dumps(scrapped_data)\n",
    "print(scrapped_data)\n",
    "\n",
    "data_dict = json.loads(scrapped_data)\n",
    "print(json.dumps(data_dict, indent = 4, sort_keys=True))\n",
    "\n",
    "with open('databolacom.json', 'w') as json_file:\n",
    "    json.dump(data.json,json_file)\n",
    "    \n",
    "    \n",
    "    \n",
    "    \n",
    "    "
   ]
  },
  {
   "cell_type": "code",
   "execution_count": null,
   "metadata": {},
   "outputs": [],
   "source": []
  }
 ],
 "metadata": {
  "kernelspec": {
   "display_name": "Python 3",
   "language": "python",
   "name": "python3"
  },
  "language_info": {
   "codemirror_mode": {
    "name": "ipython",
    "version": 3
   },
   "file_extension": ".py",
   "mimetype": "text/x-python",
   "name": "python",
   "nbconvert_exporter": "python",
   "pygments_lexer": "ipython3",
   "version": "3.8.8"
  }
 },
 "nbformat": 4,
 "nbformat_minor": 2
}
