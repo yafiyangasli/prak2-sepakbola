{
 "cells": [
  {
   "cell_type": "code",
   "execution_count": 1,
   "metadata": {},
   "outputs": [],
   "source": [
    "from bs4 import BeautifulSoup\n",
    "import json\n",
    "import requests\n",
    "import pandas as pd\n",
    "import matplotlib as plt\n",
    "\n",
    "URL = \"https://www.panditfootball.com/\"\n",
    "r   = requests.request(\"GET\", URL).text\n",
    "\n"
   ]
  },
  {
   "cell_type": "code",
   "execution_count": 2,
   "metadata": {},
   "outputs": [
    {
     "name": "stdout",
     "output_type": "stream",
     "text": [
      "Total data 12\n"
     ]
    }
   ],
   "source": [
    "data = BeautifulSoup(r, \"html.parser\")\n",
    "listproductinfo = data.find_all(\"article\", attrs={'class':'news-block small-block'})\n",
    "\n",
    "#validasi data minimal 10\n",
    "print(\"Total data\" ,len(listproductinfo))"
   ]
  },
  {
   "cell_type": "code",
   "execution_count": 7,
   "metadata": {},
   "outputs": [
    {
     "name": "stdout",
     "output_type": "stream",
     "text": [
      "[{\"Title\": \"                  Pekan Terakhir Serie A 2020/21: Siapa Lolos ke Liga Champions?                \", \"Link\": \"https://www.panditfootball.com/analisa-pertandingan/214390//210523/pekan-terakhir-serie-a-2020-21-siapa-lolos-ke-liga-champions\", \"Img\": \"https://img.panditfootball.com/small/Serie%20A.jpg\", \"Date\": \"              23/05/2021 17:22              \", \"Source\": \"panditfootbal.com\"}, {\"Title\": \"                  Pekan Terakhir Premier League 2020/21: Tiga Klub, Dua Spot UCL, dan Perebutan Golden Boot                \", \"Link\": \"https://www.panditfootball.com/analisa-pertandingan/214389//210523/pekan-terakhir-premier-league-2020-21-tiga-klub-dua-spot-ucl-dan-perebutan-golden-boot\", \"Img\": \"https://img.panditfootball.com/small/PL%20Trofi.jpg\", \"Date\": \"              23/05/2021 17:20              \", \"Source\": \"panditfootbal.com\"}, {\"Title\": \"                  Pekan Terakhir La Liga 2020/21: Siapa Menjadi Juara?                \", \"Link\": \"https://www.panditfootball.com/analisa-pertandingan/214388//210522/pekan-terakhir-la-liga-2020-21-siapa-menjadi-juara\", \"Img\": \"https://img.panditfootball.com/small/\", \"Date\": \"              22/05/2021 21:11              \", \"Source\": \"panditfootbal.com\"}, {\"Title\": \"                  Pemain Spekulatif FPL PanditFootball: Gameweek 37                \", \"Link\": \"https://www.panditfootball.com/fpl-football-culture/214380/RFH/210518/pemain-spekulatif-fpl-panditfootball-gameweek-37\", \"Img\": \"https://img.panditfootball.com/small/WhatsApp%20Image%202021-05-18%20at%2006.10.26%20(1).jpeg\", \"Date\": \"              18/05/2021 19:34              \", \"Source\": \"panditfootbal.com\"}, {\"Title\": \"                  Penyerang Unggulan FPL PanditFootball: Gameweek 37                \", \"Link\": \"https://www.panditfootball.com/fpl-football-culture/214379/RFH/210518/penyerang-unggulan-fpl-panditfootball-gameweek-37\", \"Img\": \"https://img.panditfootball.com/small/WhatsApp%20Image%202021-05-18%20at%2006.10.26.jpeg\", \"Date\": \"              18/05/2021 18:18              \", \"Source\": \"panditfootbal.com\"}, {\"Title\": \"                  Gelandang Unggulan FPL PanditFootball: Gameweek 37                \", \"Link\": \"https://www.panditfootball.com/fpl-football-culture/214378/RFH/210518/gelandang-unggulan-fpl-panditfootball-gameweek-37\", \"Img\": \"https://img.panditfootball.com/small/WhatsApp%20Image%202021-05-18%20at%2006.10.24.jpeg\", \"Date\": \"              18/05/2021 16:14              \", \"Source\": \"panditfootbal.com\"}, {\"Title\": \"                  Kiper dan Bek Unggulan FPL PanditFootball: Gameweek 37                \", \"Link\": \"https://www.panditfootball.com/fpl-football-culture/214377/RFH/210518/kiper-dan-bek-unggulan-fpl-panditfootball-gameweek-37\", \"Img\": \"https://img.panditfootball.com/small/WhatsApp%20Image%202021-05-18%20at%2006.10.25.jpeg\", \"Date\": \"              18/05/2021 15:47              \", \"Source\": \"panditfootbal.com\"}, {\"Title\": \"                  Emma Hayes, Tokoh Sepakbola Perempuan di Ambang Sejarah                \", \"Link\": \"https://www.panditfootball.com/cerita/214372//210516/emma-hayes-tokoh-sepakbola-perempuan-di-ambang-sejarah\", \"Img\": \"https://img.panditfootball.com/small/Feature-Image-emma.jpg\", \"Date\": \"              16/05/2021 10:00              \", \"Source\": \"panditfootbal.com\"}, {\"Title\": \"                  Pemain Spekulatif FPL PanditFootball: Gameweek 36                \", \"Link\": \"https://www.panditfootball.com/fpl-football-culture/214376/RFH/210514/pemain-spekulatif-fpl-panditfootball-gameweek-36\", \"Img\": \"https://img.panditfootball.com/small/WhatsApp%20Image%202021-05-14%20at%2014.51.43%20(1).jpeg\", \"Date\": \"              14/05/2021 20:53              \", \"Source\": \"panditfootbal.com\"}, {\"Title\": \"                  Penyerang Unggulan FPL PanditFootball: Gameweek 36                \", \"Link\": \"https://www.panditfootball.com/fpl-football-culture/214375/RFH/210514/penyerang-unggulan-fpl-panditfootball-gameweek-36\", \"Img\": \"https://img.panditfootball.com/small/WhatsApp%20Image%202021-05-14%20at%2014.51.43.jpeg\", \"Date\": \"              14/05/2021 20:07              \", \"Source\": \"panditfootbal.com\"}, {\"Title\": \"                  Gelandang Unggulan FPL PanditFootball: Gameweek 36                \", \"Link\": \"https://www.panditfootball.com/fpl-football-culture/214374/RFH/210514/gelandang-unggulan-fpl-panditfootball-gameweek-36\", \"Img\": \"https://img.panditfootball.com/small/WhatsApp%20Image%202021-05-14%20at%2014.51.42%20(1).jpeg\", \"Date\": \"              14/05/2021 18:38              \", \"Source\": \"panditfootbal.com\"}, {\"Title\": \"                  Kiper dan Bek Unggulan FPL PanditFootball: Gameweek 36                \", \"Link\": \"https://www.panditfootball.com/fpl-football-culture/214373/RFH/210514/kiper-dan-bek-unggulan-fpl-panditfootball-gameweek-36\", \"Img\": \"https://img.panditfootball.com/small/WhatsApp%20Image%202021-05-14%20at%2014.51.42.jpeg\", \"Date\": \"              14/05/2021 17:02              \", \"Source\": \"panditfootbal.com\"}]\n"
     ]
    }
   ],
   "source": [
    "list_data = {}\n",
    "scrapped_data = []\n",
    "\n",
    "for x in listproductinfo:\n",
    "    temp = x.find('h3', attrs={'class':'news-title'})\n",
    "    temp2 = x.find('a', href=True)\n",
    "    temp3 = x.find('img', src=True)\n",
    "    temp4 = x.find('p', attrs={'class':'simple-share'})\n",
    "    title = temp.find('a').text\n",
    "    link = (temp2['href'])\n",
    "    img = (temp3['src'])\n",
    "    date = temp4.text\n",
    "    source = \"panditfootbal.com\"\n",
    "    title = title.replace('\\n', '')\n",
    "    date = date.replace('\\n', '')\n",
    "    list_data [\"Title\"] = title\n",
    "    list_data [\"Link\"] = link\n",
    "    list_data [\"Img\"] = img\n",
    "    list_data [\"Date\"] = date\n",
    "    list_data [\"Source\"] = source\n",
    "    list_datacopy = list_data.copy()\n",
    "    scrapped_data.append(list_datacopy)\n",
    "\n",
    "scrapped_data=json.dumps(scrapped_data)\n",
    "print(scrapped_data)\n",
    "    \n",
    "    \n",
    "    \n",
    "    \n",
    "    "
   ]
  },
  {
   "cell_type": "code",
   "execution_count": null,
   "metadata": {},
   "outputs": [],
   "source": []
  }
 ],
 "metadata": {
  "kernelspec": {
   "display_name": "Python 3",
   "language": "python",
   "name": "python3"
  },
  "language_info": {
   "codemirror_mode": {
    "name": "ipython",
    "version": 3
   },
   "file_extension": ".py",
   "mimetype": "text/x-python",
   "name": "python",
   "nbconvert_exporter": "python",
   "pygments_lexer": "ipython3",
   "version": "3.7.4"
  }
 },
 "nbformat": 4,
 "nbformat_minor": 2
}
